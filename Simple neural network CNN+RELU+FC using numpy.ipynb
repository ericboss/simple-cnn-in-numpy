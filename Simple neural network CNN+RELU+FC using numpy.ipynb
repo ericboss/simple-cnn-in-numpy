{
 "cells": [
  {
   "cell_type": "code",
   "execution_count": 14,
   "metadata": {},
   "outputs": [],
   "source": [
    "from scipy import misc\n",
    "import numpy as np\n",
    "#from skimage import exposure\n",
    "from math import ceil\n",
    "\n",
    "\n",
    "def convolution2d(conv_input, conv_kernel, bias=0, strides=(1, 1), padding='same'):\n",
    "    # This function which takes an input (Tensor) and a kernel (Tensor)\n",
    "    # and returns the convolution of them\n",
    "    # Args:\n",
    "    #   conv_input: a numpy array of size [input_height, input_width, input # of channels].\n",
    "    #   conv_kernel: a numpy array of size [kernel_height, kernel_width, input # of channels]\n",
    "    #                represents the kernel of the Convolutional Layer's filter.\n",
    "    #   bias: a scalar value, represents the bias of the Convolutional Layer's filter.\n",
    "    #   strides: a tuple of (convolution vertical stride, convolution horizontal stride).\n",
    "    #   padding: type of the padding scheme: 'same' or 'valid'.\n",
    "    # Returns:\n",
    "    #   a numpy array (convolution output).\n",
    "\n",
    "    assert len(conv_kernel.shape) == 3, \"The size of the kernel should be (kernel_height, kernel_width, input # of channels)\"\n",
    "    assert len(conv_input.shape) == 3, \"The size of the input should be (input_height, input_width, input # of channels)\"\n",
    "    assert conv_kernel.shape[2] == conv_input.shape[2], \"the input and the kernel should have the same depth.\"\n",
    "\n",
    "    input_w, input_h = conv_input.shape[1], conv_input.shape[0]      # input_width and input_height\n",
    "    kernel_w, kernel_h = conv_kernel.shape[1], conv_kernel.shape[0]  # kernel_width and kernel_height\n",
    "\n",
    "    if padding == 'same':\n",
    "        output_height = int(ceil(float(input_h) / float(strides[0])))\n",
    "        output_width = int(ceil(float(input_w) / float(strides[1])))\n",
    "\n",
    "        # Calculate the number of zeros which are needed to add as padding\n",
    "        pad_along_height = max((output_height - 1) * strides[0] + kernel_h - input_h, 0)\n",
    "        pad_along_width = max((output_width - 1) * strides[1] + kernel_w - input_w, 0)\n",
    "        pad_top = pad_along_height // 2             # amount of zero padding on the top\n",
    "        pad_bottom = pad_along_height - pad_top     # amount of zero padding on the bottom\n",
    "        pad_left = pad_along_width // 2             # amount of zero padding on the left\n",
    "        pad_right = pad_along_width - pad_left      # amount of zero padding on the right\n",
    "\n",
    "        output = np.zeros((output_height, output_width))  # convolution output\n",
    "\n",
    "        # Add zero padding to the input image\n",
    "        image_padded = np.zeros((conv_input.shape[0] + pad_along_height,\n",
    "                                 conv_input.shape[1] + pad_along_width, conv_input.shape[2]))\n",
    "        image_padded[pad_top:-pad_bottom, pad_left:-pad_right, :] = conv_input\n",
    "\n",
    "        for x in range(output_width):  # Loop over every pixel of the output\n",
    "            for y in range(output_height):\n",
    "                # element-wise multiplication of the kernel and the image\n",
    "                output[y, x] = (conv_kernel * image_padded[y * strides[0]:y * strides[0] + kernel_h,\n",
    "                                x * strides[1]:x * strides[1] + kernel_w, :]).sum() + bias\n",
    "\n",
    "    elif padding == 'valid':\n",
    "        output_height = int(ceil(float(input_h - kernel_h + 1) / float(strides[0])))\n",
    "        output_width = int(ceil(float(input_w - kernel_w + 1) / float(strides[1])))\n",
    "\n",
    "        output = np.zeros((output_height, output_width))  # convolution output\n",
    "\n",
    "        for x in range(output_width):  # Loop over every pixel of the output\n",
    "            for y in range(output_height):\n",
    "                # element-wise multiplication of the kernel and the image\n",
    "                output[y, x] = (conv_kernel * conv_input[y * strides[0]:y * strides[0] + kernel_h,\n",
    "                                x * strides[1]:x * strides[1] + kernel_w, :]).sum() + bias\n",
    "\n",
    "    return output\n"
   ]
  },
  {
   "cell_type": "code",
   "execution_count": 28,
   "metadata": {},
   "outputs": [],
   "source": [
    "def relu(output):\n",
    "    \"\"\"Takes as input output from convolution and compute the relu function\"\"\"\n",
    "    return np.maximum(output, 0)"
   ]
  },
  {
   "cell_type": "code",
   "execution_count": 29,
   "metadata": {},
   "outputs": [
    {
     "data": {
      "text/plain": [
       "(32, 32, 1)"
      ]
     },
     "execution_count": 29,
     "metadata": {},
     "output_type": "execute_result"
    }
   ],
   "source": [
    "\n",
    "#Setting input.\n",
    "X = np.random.randn(32,32)\n",
    "\n",
    "X = np.expand_dims(X, axis=2)\n",
    "X.shape"
   ]
  },
  {
   "cell_type": "code",
   "execution_count": 34,
   "metadata": {},
   "outputs": [
    {
     "data": {
      "text/plain": [
       "(16, 16)"
      ]
     },
     "execution_count": 34,
     "metadata": {},
     "output_type": "execute_result"
    }
   ],
   "source": [
    "kernel = np.array([[-1, -1, -1], [-1, 8, -1], [-1, -1, -1]])[..., None]\n",
    "conv = convolution2d(X, kernel, bias=0, strides=(2,2), padding='same')\n",
    "conv.shape"
   ]
  },
  {
   "cell_type": "code",
   "execution_count": 35,
   "metadata": {},
   "outputs": [
    {
     "data": {
      "text/plain": [
       "(16, 16)"
      ]
     },
     "execution_count": 35,
     "metadata": {},
     "output_type": "execute_result"
    }
   ],
   "source": [
    "out = relu(conv)\n",
    "out.shape"
   ]
  },
  {
   "cell_type": "code",
   "execution_count": 36,
   "metadata": {},
   "outputs": [],
   "source": [
    "N_input = 16\n",
    "N_hidden = 1\n",
    "weights = np.random.normal(0, scale=0.1, size=(N_input, N_hidden))\n"
   ]
  },
  {
   "cell_type": "code",
   "execution_count": 37,
   "metadata": {},
   "outputs": [],
   "source": [
    "import numpy as np  \n",
    "  \n",
    "def forward(x, w, b):  \n",
    "  \"\"\" \n",
    "  Computes the forward pass for an affine (fully-connected) layer. \n",
    " \n",
    "  The input x has shape (N, d_1, ..., d_k) and contains a minibatch of N \n",
    "  examples, where each example x[i] has shape (d_1, ..., d_k). We will \n",
    "  reshape each input into a vector of dimension D = d_1 * ... * d_k, and \n",
    "  then transform it to an output vector of dimension M. \n",
    " \n",
    "  Inputs: \n",
    "  - x: A numpy array containing input data, of shape (N, d_1, ..., d_k) \n",
    "  - w: A numpy array of weights, of shape (D, M) \n",
    "  - b: A numpy array of biases, of shape (M,) \n",
    "   \n",
    "  Returns a tuple of: \n",
    "  - out: output, of shape (N, M) \n",
    "  \n",
    "  \"\"\"  \n",
    "  out = None    \n",
    "    \n",
    "  N = x.shape[0]  \n",
    "  x_temp = x.reshape(N,-1)  \n",
    "  out = x_temp.dot(w) + b  \n",
    "      \n",
    "  \n",
    "  return out  "
   ]
  },
  {
   "cell_type": "code",
   "execution_count": 38,
   "metadata": {},
   "outputs": [
    {
     "data": {
      "text/plain": [
       "(16, 1)"
      ]
     },
     "execution_count": 38,
     "metadata": {},
     "output_type": "execute_result"
    }
   ],
   "source": [
    "output = forward(out, weights, 0)\n",
    "output.shape"
   ]
  },
  {
   "cell_type": "code",
   "execution_count": 39,
   "metadata": {},
   "outputs": [
    {
     "data": {
      "text/plain": [
       "array([[-2.69471607],\n",
       "       [-1.41888518],\n",
       "       [-1.37817317],\n",
       "       [-2.03479411],\n",
       "       [-2.20093683],\n",
       "       [-0.65254692],\n",
       "       [-2.55681455],\n",
       "       [ 0.71230396],\n",
       "       [-3.00880967],\n",
       "       [-1.12826331],\n",
       "       [ 1.12202531],\n",
       "       [-0.40539833],\n",
       "       [ 0.80255343],\n",
       "       [-0.4971478 ],\n",
       "       [ 0.74335456],\n",
       "       [-0.98954348]])"
      ]
     },
     "execution_count": 39,
     "metadata": {},
     "output_type": "execute_result"
    }
   ],
   "source": [
    "output"
   ]
  },
  {
   "cell_type": "code",
   "execution_count": null,
   "metadata": {},
   "outputs": [],
   "source": []
  }
 ],
 "metadata": {
  "kernelspec": {
   "display_name": "Python 3",
   "language": "python",
   "name": "python3"
  },
  "language_info": {
   "codemirror_mode": {
    "name": "ipython",
    "version": 3
   },
   "file_extension": ".py",
   "mimetype": "text/x-python",
   "name": "python",
   "nbconvert_exporter": "python",
   "pygments_lexer": "ipython3",
   "version": "3.6.2"
  }
 },
 "nbformat": 4,
 "nbformat_minor": 2
}
